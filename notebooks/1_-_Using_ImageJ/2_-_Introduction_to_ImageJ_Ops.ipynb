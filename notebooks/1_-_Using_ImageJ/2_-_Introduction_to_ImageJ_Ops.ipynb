{
 "cells": [
  {
   "cell_type": "markdown",
   "metadata": {},
   "source": [
    "# Introduction to ImageJ Ops\n",
    "\n",
    "[ImageJ Ops](https://imagej.net/ImageJ_Ops) is a library for N-dimensional image processing.\n",
    "\n",
    "The primary design goals of Ops are:\n",
    "\n",
    "1. __Ease of use.__ Ops provides a wealth of easy-to-use image processing operations (\"ops\").\n",
    "2. __Reusability.__ Ops extends Java's mantra of \"[write once, run anywhere](https://en.wikipedia.org/wiki/Write_once,_run_anywhere)\" to image processing algorithms. Algorithms written in the Ops framework are usable as-is from any [SciJava](https://imagej.net/SciJava)-compatible software project, such as [ImageJ](https://imagej.net/ImageJ), [CellProfiler](https://imagej.net/CellProfiler), [KNIME](https://imagej.net/KNIME), [OMERO](https://imagej.net/OMERO) and [Alida](https://imagej.net/Alida).\n",
    "3. __Reproducibility.__ Ops are deterministic: calling the same op twice with the same arguments yields the same result, always. And all ops are versioned.\n",
    "4. __Power.__ An op may consist of any number of typed input and output parameters. Ops may operate on arbitrary data structures, including images of N dimensions stored in a myriad of different ways: as files on disk, programmatically generated in memory, or in remote databases.\n",
    "5. __Extensibility.__ Ops provides a robust framework for writing new ops, and for extending existing ops in new directions. See the \"Extending ImageJ - Ops\" tutorial notebook for details.\n",
    "6. __Speed.__ The Ops framework provides a means to override any general-but-slow op with a faster-but-more-specific alternative, fully transparently to the user."
   ]
  },
  {
   "cell_type": "markdown",
   "metadata": {},
   "source": [
    "## Table of contents\n",
    "\n",
    "* [01 - A Very Quick Start Guide](ImageJ_Ops/01_-_A_Very_Quick_Start_Guide.ipynb)\n",
    "* [02 - Basic Example of Using Ops - Gaussian Filter](ImageJ_Ops/02_-_Basic_Example_of_Using_Ops_-_Gaussian_Filter.ipynb)\n",
    "* [03 - Generating Images](ImageJ_Ops/03_-_Generating_Images.ipynb)\n",
    "* [04 - Computing Statistics](ImageJ_Ops/04_-_Computing_Statistics.ipynb)\n",
    "* [05 - Math on Image](ImageJ_Ops/05_-_Math_on_Image.ipynb)\n",
    "* [06 - Evaluating Expressions](ImageJ_Ops/06_-_Evaluating_Expressions.ipynb)\n",
    "* [07 - Converting Between Image Types](ImageJ_Ops/07_-_Converting_Between_Image_Types.ipynb)\n",
    "* [08 - Filtering](ImageJ_Ops/08_-_Filtering.ipynb)\n",
    "* [09 - Convolution - Deconvolution - Fourier Transforms](ImageJ_Ops/09_-_Convolution_-_Deconvolution_-_Fourier_Transforms.ipynb)\n",
    "* [10 - Transforming Images](ImageJ_Ops/10_-_Transforming_Images.ipynb)\n",
    "* [11 - Thresholding](ImageJ_Ops/11_-_Thresholding.ipynb)\n",
    "* [12 - Mathematical Morphology](ImageJ_Ops/12_-_Mathematical_Morphology.ipynb)\n",
    "* [13 - Frangi Vesselness Filter](ImageJ_Ops/13_-_Frangi_Vesselness_Filter.ipynb)\n",
    "* [14 - Hyperslice](ImageJ_Ops/14_-_Hyperslice.ipynb)  "
   ]
  }
 ],
 "metadata": {
  "kernelspec": {
   "display_name": "Groovy",
   "language": "groovy",
   "name": "groovy"
  },
  "language_info": {
   "codemirror_mode": "groovy",
   "file_extension": ".groovy",
   "mimetype": "",
   "name": "Groovy",
   "nbconverter_exporter": "",
   "version": "2.4.3"
  },
  "toc": {
   "base_numbering": 1,
   "nav_menu": {},
   "number_sections": true,
   "sideBar": true,
   "skip_h1_title": true,
   "title_cell": "Table of Contents",
   "title_sidebar": "Contents",
   "toc_cell": false,
   "toc_position": {
    "height": "calc(100% - 180px)",
    "left": "10px",
    "top": "150px",
    "width": "307px"
   },
   "toc_section_display": true,
   "toc_window_display": true
  }
 },
 "nbformat": 4,
 "nbformat_minor": 2
}
