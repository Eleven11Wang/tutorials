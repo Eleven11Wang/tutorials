{
 "cells": [
  {
   "cell_type": "markdown",
   "metadata": {},
   "source": [
    "# Computing Statistics"
   ]
  },
  {
   "cell_type": "code",
   "execution_count": 1,
   "metadata": {},
   "outputs": [
    {
     "name": "stdout",
     "output_type": "stream",
     "text": [
      "Added new repo: imagej.public\n"
     ]
    },
    {
     "data": {
      "application/vnd.jupyter.widget-view+json": {
       "model_id": "",
       "version_major": 2,
       "version_minor": 0
      },
      "method": "display_data"
     },
     "metadata": {},
     "output_type": "display_data"
    },
    {
     "data": {
      "application/vnd.jupyter.widget-view+json": {
       "model_id": "85a8921f-1276-450a-98e1-ac811dc8ef67",
       "version_major": 2,
       "version_minor": 0
      },
      "method": "display_data"
     },
     "metadata": {},
     "output_type": "display_data"
    },
    {
     "data": {
      "text/plain": [
       "ImageJ 2.0.0-rc-71 is ready to go."
      ]
     },
     "execution_count": 1,
     "metadata": {},
     "output_type": "execute_result"
    }
   ],
   "source": [
    "%classpath config resolver imagej.public https://maven.imagej.net/content/groups/public\n",
    "%classpath add mvn net.imagej imagej 2.0.0-rc-71\n",
    "ij = new net.imagej.ImageJ()\n",
    "\"ImageJ ${ij.getVersion()} is ready to go.\""
   ]
  },
  {
   "cell_type": "markdown",
   "metadata": {},
   "source": [
    "The `stats` package has routines for computing numerical statistics.\n",
    "\n",
    "Here is a rundown of many of them:"
   ]
  },
  {
   "cell_type": "code",
   "execution_count": 2,
   "metadata": {},
   "outputs": [
    {
     "data": {
      "application/vnd.jupyter.widget-view+json": {
       "model_id": "464a602d-3fce-4a7d-bd18-4d109079cabc",
       "version_major": 2,
       "version_minor": 0
      },
      "method": "display_data"
     },
     "metadata": {},
     "output_type": "display_data"
    }
   ],
   "source": [
    "sinusoid32 = ij.op().run(\"create.img\", [150, 100])\n",
    "formula = \"63 * (Math.cos(0.3*p[0]) + Math.sin(0.3*p[1])) + 127\"\n",
    "ij.op().image().equation(sinusoid32, formula)\n",
    "\n",
    "[\"geometricMean\": ij.op().stats().geometricMean(sinusoid32).toString(),\n",
    "\"harmonicMean\": ij.op().stats().harmonicMean(sinusoid32).toString(),\n",
    "\"kurtosis\": ij.op().stats().kurtosis(sinusoid32).toString(),\n",
    "\"max\": ij.op().stats().max(sinusoid32).toString(),\n",
    "\"mean\": ij.op().stats().mean(sinusoid32).toString(),\n",
    "\"median\": ij.op().stats().median(sinusoid32).toString(),\n",
    "\"min\": ij.op().stats().min(sinusoid32).toString(),\n",
    "\"moment1AboutMean\": ij.op().stats().moment1AboutMean(sinusoid32).toString(),\n",
    "\"moment2AboutMean\": ij.op().stats().moment2AboutMean(sinusoid32).toString(),\n",
    "\"moment3AboutMean\": ij.op().stats().moment3AboutMean(sinusoid32).toString(),\n",
    "\"moment4AboutMean\": ij.op().stats().moment4AboutMean(sinusoid32).toString(),\n",
    "\"size\": ij.op().stats().size(sinusoid32).toString(),\n",
    "\"skewness\": ij.op().stats().skewness(sinusoid32).toString(),\n",
    "\"stdDev\": ij.op().stats().stdDev(sinusoid32).toString(),\n",
    "\"sum\": ij.op().stats().sum(sinusoid32).toString(),\n",
    "\"sumOfInverses\": ij.op().stats().sumOfInverses(sinusoid32).toString(),\n",
    "\"sumOfLogs\": ij.op().stats().sumOfLogs(sinusoid32).toString(),\n",
    "\"sumOfSquares\": ij.op().stats().sumOfSquares(sinusoid32).toString(),\n",
    "\"variance\": ij.op().stats().variance(sinusoid32).toString()]"
   ]
  }
 ],
 "metadata": {
  "kernelspec": {
   "display_name": "Groovy",
   "language": "groovy",
   "name": "groovy"
  },
  "language_info": {
   "codemirror_mode": "groovy",
   "file_extension": ".groovy",
   "mimetype": "",
   "name": "Groovy",
   "nbconverter_exporter": "",
   "version": "2.4.3"
  },
  "toc": {
   "base_numbering": 1,
   "nav_menu": {},
   "number_sections": false,
   "sideBar": false,
   "skip_h1_title": false,
   "title_cell": "Table of Contents",
   "title_sidebar": "Contents",
   "toc_cell": false,
   "toc_position": {},
   "toc_section_display": false,
   "toc_window_display": false
  }
 },
 "nbformat": 4,
 "nbformat_minor": 2
}
