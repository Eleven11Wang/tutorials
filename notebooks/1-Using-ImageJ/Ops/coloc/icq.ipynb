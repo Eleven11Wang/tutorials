{
 "cells": [
  {
   "cell_type": "code",
   "execution_count": null,
   "metadata": {},
   "outputs": [],
   "source": [
    "%classpath config resolver imagej.public https://maven.imagej.net/content/groups/public\n",
    "%classpath add mvn net.imagej imagej 2.0.0-rc-71\n",
    "ij = new net.imagej.ImageJ()\n",
    "ij.getVersion()"
   ]
  },
  {
   "cell_type": "markdown",
   "metadata": {},
   "source": [
    "This `Op` performs the [Li's intensity correlation coefficent (ICQ) algorithm](http://imagej.net/_images/9/9e/LietAlColoc.pdf) for colocalization measurements. The Li ICQ value is calculated by dividing the amount of \"positive pixels\" by the total number of pixels; it's then shifted in the -0.5,0.5 range. Let's take a look at how this `Op` is called:"
   ]
  },
  {
   "cell_type": "code",
   "execution_count": 2,
   "metadata": {},
   "outputs": [
    {
     "data": {
      "text/plain": [
       "Available operations:\n",
       "\t(Double out) =\n",
       "\tnet.imagej.ops.coloc.icq.LiICQ(\n",
       "\t\tIterable in1,\n",
       "\t\tIterable in2,\n",
       "\t\tDoubleType mean1?,\n",
       "\t\tDoubleType mean2?)"
      ]
     },
     "execution_count": 2,
     "metadata": {},
     "output_type": "execute_result"
    }
   ],
   "source": [
    "ij.op().help('coloc.icq')"
   ]
  },
  {
   "cell_type": "markdown",
   "metadata": {},
   "source": [
    "Let's explain the parameters:\n",
    "\n",
    "* `Iterable<T>`: channel 1 image\n",
    "* `Iterable<U>`: channel 2 image\n",
    "* `DoubleType mean1`: if no mean is provided for the channel 1 image, it is calculated (optional parameter)\n",
    "* `DoubleType mean2`: if no mean is provided for the channel 2 image, it is calculated (optional parameter)\n",
    "\n",
    "Let's grab an image:"
   ]
  },
  {
   "cell_type": "code",
   "execution_count": null,
   "metadata": {},
   "outputs": [],
   "source": [
    "image1 = ij.scifio().datasetIO().open(\"/Users/ellenarena/Desktop/Desktop/C1-FluorescentCells.tif\")\n",
    "image2 = ij.scifio().datasetIO().open(\"/Users/ellenarena/Desktop/Desktop/C2-FluorescentCells.tif\")"
   ]
  },
  {
   "cell_type": "code",
   "execution_count": null,
   "metadata": {},
   "outputs": [],
   "source": [
    "histo = ij.op().image().histogram(image1)\n",
    "histo2d = ij.op().transform().addDimensionView(histo, 0, 20)"
   ]
  },
  {
   "cell_type": "code",
   "execution_count": null,
   "metadata": {},
   "outputs": [],
   "source": [
    "ij.notebook().display(histo2d)"
   ]
  },
  {
   "cell_type": "code",
   "execution_count": null,
   "metadata": {},
   "outputs": [],
   "source": [
    "ij.op().help(\"addDimensionView\")\n"
   ]
  },
  {
   "cell_type": "code",
   "execution_count": null,
   "metadata": {},
   "outputs": [],
   "source": [
    "for (t in histo) {println(t)}"
   ]
  },
  {
   "cell_type": "code",
   "execution_count": null,
   "metadata": {},
   "outputs": [],
   "source": [
    "%classpath add mvn org.knowm.xchart xchart 3.5.2\n",
    "import org.knowm.xchart.CategoryChart\n",
    "import org.knowm.xchart.CategoryChartBuilder\n",
    "import java.awt.Color\n",
    "\n",
    "// Create a chart.\n",
    "chart = new CategoryChartBuilder().width(800).height(400).\n",
    "    title(\"Histogram\").xAxisTitle(\"Bin\").yAxisTitle(\"Count\").build();\n",
    "chart.getStyler().setPlotGridVerticalLinesVisible(false).setOverlapped(true)\n",
    "\n",
    "// Extract the counts and add them to the chart.\n",
    "counts = []\n",
    "for (value in histo)\n",
    "    counts.add(value.getRealDouble())\n",
    "chart.addSeries(\"histogram\", (0..counts.size()-1), counts).setFillColor(new java.awt.Color(0x7989FF))\n",
    "\n",
    "chart"
   ]
  },
  {
   "cell_type": "code",
   "execution_count": null,
   "metadata": {},
   "outputs": [],
   "source": [
    "ij.notebook().methods(ij.notebook())"
   ]
  },
  {
   "cell_type": "code",
   "execution_count": null,
   "metadata": {},
   "outputs": [],
   "source": []
  }
 ],
 "metadata": {
  "kernelspec": {
   "display_name": "Groovy",
   "language": "groovy",
   "name": "groovy"
  },
  "language_info": {
   "codemirror_mode": "groovy",
   "file_extension": ".groovy",
   "mimetype": "",
   "name": "Groovy",
   "nbconverter_exporter": "",
   "version": "2.4.3"
  },
  "toc": {
   "base_numbering": 1,
   "nav_menu": {},
   "number_sections": false,
   "sideBar": false,
   "skip_h1_title": false,
   "title_cell": "Table of Contents",
   "title_sidebar": "Contents",
   "toc_cell": false,
   "toc_position": {},
   "toc_section_display": false,
   "toc_window_display": false
  }
 },
 "nbformat": 4,
 "nbformat_minor": 2
}
